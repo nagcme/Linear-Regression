{
 "cells": [
  {
   "cell_type": "code",
   "execution_count": 23,
   "metadata": {},
   "outputs": [
    {
     "data": {
      "image/png": "[encoded data removed]",
      "text/plain": [
       "<Figure size 432x288 with 1 Axes>"
      ]
     },
     "metadata": {
      "needs_background": "light"
     },
     "output_type": "display_data"
    },
    {
     "name": "stdout",
     "output_type": "stream",
     "text": [
      "[[23.24137931]]\n",
      "Mean Squared Error:\n",
      "87.56884686841039\n",
      "Sqrt Mean Squared Error:\n",
      "9.357822763250562\n",
      "Mean Absolute Error:\n",
      "9.294306335204489\n",
      "\n",
      "*******Loading Model*******\n",
      "\n",
      "[[23.24137931]]\n",
      "Mean Squared Error:\n",
      "87.56884686841039\n",
      "Sqrt Mean Squared Error:\n",
      "9.357822763250562\n",
      "Mean Absolute Error:\n",
      "9.294306335204489\n"
     ]
    }
   ],
   "source": [
    "from sklearn.linear_model import LinearRegression\n",
    "import pandas as pd\n",
    "import matplotlib.pyplot as plt\n",
    "from sklearn.model_selection import train_test_split\n",
    "import pickle\n",
    "from sklearn import metrics\n",
    "import math\n",
    "\n",
    "data = [[1, 3], [2, 5], [5, 9],[4, 10],[3, 18], [7, 13],[8, 19], [9, 17], [10, 23],[11, 26], [12, 21], [13, 23]]\n",
    "df_data = pd.DataFrame(data, columns=['X','Y'])\n",
    "\n",
    "train, test = train_test_split(df_data, test_size = 0.3)\n",
    "\n",
    "X_train, X_test = train.iloc[:, 0].values.reshape(-1, 1), test.iloc[:, 0].values.reshape(-1, 1)\n",
    "\n",
    "y_train, y_test = train.iloc[:, 1].values.reshape(-1, 1), test.iloc[:, 0].values.reshape(-1, 1)\n",
    "\n",
    "lr = LinearRegression()\n",
    "lr.fit(X_train,y_train)\n",
    "\n",
    "m,b = lr.coef_, lr.intercept_\n",
    "plt.scatter(X_train, y_train)\n",
    "# plt.plot(X, Y_pred, color='red')\n",
    "plt.plot(X_train, m*X_train + b, color='red')\n",
    "plt.show()\n",
    "print(lr.predict([[12]]))\n",
    "y_pred = lr.predict(X_test)\n",
    "\n",
    "print('Mean Squared Error:')\n",
    "print(metrics.mean_squared_error(y_test,y_pred))\n",
    "print('Sqrt Mean Squared Error:')\n",
    "print(math.sqrt(metrics.mean_squared_error(y_test,y_pred)))\n",
    "print('Mean Absolute Error:')\n",
    "print(metrics.mean_absolute_error(y_test,y_pred))\n",
    "# Save Model\n",
    "filename = 'linear_reg_model.sav'\n",
    "pickle.dump(lr, open(filename, 'wb'))\n",
    "\n",
    "# Load Model\n",
    "print('\\n*******Loading Model*******\\n')\n",
    "loaded_model = pickle.load(open(filename, 'rb'))\n",
    "print(lr.predict([[12]]))\n",
    "y_pred = loaded_model.predict(X_test)\n",
    "\n",
    "print('Mean Squared Error:')\n",
    "print(metrics.mean_squared_error(y_test,y_pred))\n",
    "print('Sqrt Mean Squared Error:')\n",
    "print(math.sqrt(metrics.mean_squared_error(y_test,y_pred)))\n",
    "print('Mean Absolute Error:')\n",
    "print(metrics.mean_absolute_error(y_test,y_pred))"
   ]
  }
 ],
 "metadata": {
  "kernelspec": {
   "display_name": "Python 3",
   "language": "python",
   "name": "python3"
  },
  "language_info": {
   "codemirror_mode": {
    "name": "ipython",
    "version": 3
   },
   "file_extension": ".py",
   "mimetype": "text/x-python",
   "name": "python",
   "nbconvert_exporter": "python",
   "pygments_lexer": "ipython3",
   "version": "3.8.5"
  }
 },
 "nbformat": 4,
 "nbformat_minor": 4
}
